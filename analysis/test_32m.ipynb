{
 "cells": [
  {
   "cell_type": "code",
   "execution_count": 13,
   "metadata": {},
   "outputs": [],
   "source": [
    "import pandas as pd \n",
    "import numpy as np\n",
    "import matplotlib.pyplot as plt"
   ]
  },
  {
   "cell_type": "code",
   "execution_count": 14,
   "metadata": {},
   "outputs": [
    {
     "name": "stdout",
     "output_type": "stream",
     "text": [
      "Num elements:  2000072\n",
      "Num distinct tags:  140980\n",
      "Num distinct users:  15848\n",
      "Num distinct movies:  51323\n"
     ]
    }
   ],
   "source": [
    "tags = pd.read_csv('ml-32m/tags.csv')\n",
    "print(\"Num elements: \", len(tags))\n",
    "\n",
    "disticnt_tags = tags['tag'].unique()\n",
    "print(\"Num distinct tags: \", len(disticnt_tags))\n",
    "\n",
    "distinct_users = tags['userId'].unique()\n",
    "print(\"Num distinct users: \", len(distinct_users))\n",
    "\n",
    "distinct_movies = tags['movieId'].unique()\n",
    "print(\"Num distinct movies: \", len(distinct_movies))"
   ]
  },
  {
   "cell_type": "code",
   "execution_count": 15,
   "metadata": {},
   "outputs": [
    {
     "data": {
      "text/html": [
       "<div>\n",
       "<style scoped>\n",
       "    .dataframe tbody tr th:only-of-type {\n",
       "        vertical-align: middle;\n",
       "    }\n",
       "\n",
       "    .dataframe tbody tr th {\n",
       "        vertical-align: top;\n",
       "    }\n",
       "\n",
       "    .dataframe thead th {\n",
       "        text-align: right;\n",
       "    }\n",
       "</style>\n",
       "<table border=\"1\" class=\"dataframe\">\n",
       "  <thead>\n",
       "    <tr style=\"text-align: right;\">\n",
       "      <th></th>\n",
       "      <th>userId</th>\n",
       "      <th>movieId</th>\n",
       "      <th>tag</th>\n",
       "      <th>timestamp</th>\n",
       "    </tr>\n",
       "  </thead>\n",
       "  <tbody>\n",
       "    <tr>\n",
       "      <th>0</th>\n",
       "      <td>22</td>\n",
       "      <td>26479</td>\n",
       "      <td>Kevin Kline</td>\n",
       "      <td>1583038886</td>\n",
       "    </tr>\n",
       "    <tr>\n",
       "      <th>1</th>\n",
       "      <td>22</td>\n",
       "      <td>79592</td>\n",
       "      <td>misogyny</td>\n",
       "      <td>1581476297</td>\n",
       "    </tr>\n",
       "    <tr>\n",
       "      <th>2</th>\n",
       "      <td>22</td>\n",
       "      <td>247150</td>\n",
       "      <td>acrophobia</td>\n",
       "      <td>1622483469</td>\n",
       "    </tr>\n",
       "    <tr>\n",
       "      <th>3</th>\n",
       "      <td>34</td>\n",
       "      <td>2174</td>\n",
       "      <td>music</td>\n",
       "      <td>1249808064</td>\n",
       "    </tr>\n",
       "    <tr>\n",
       "      <th>4</th>\n",
       "      <td>34</td>\n",
       "      <td>2174</td>\n",
       "      <td>weird</td>\n",
       "      <td>1249808102</td>\n",
       "    </tr>\n",
       "  </tbody>\n",
       "</table>\n",
       "</div>"
      ],
      "text/plain": [
       "   userId  movieId          tag   timestamp\n",
       "0      22    26479  Kevin Kline  1583038886\n",
       "1      22    79592     misogyny  1581476297\n",
       "2      22   247150   acrophobia  1622483469\n",
       "3      34     2174        music  1249808064\n",
       "4      34     2174        weird  1249808102"
      ]
     },
     "execution_count": 15,
     "metadata": {},
     "output_type": "execute_result"
    }
   ],
   "source": [
    "tags.head()"
   ]
  },
  {
   "cell_type": "code",
   "execution_count": 16,
   "metadata": {},
   "outputs": [
    {
     "name": "stdout",
     "output_type": "stream",
     "text": [
      "Num elements:  32000204\n",
      "Num distinct users:  200948\n",
      "Num distinct movies:  84432\n"
     ]
    }
   ],
   "source": [
    "ratings = pd.read_csv('ml-32m/ratings.csv')\n",
    "print(\"Num elements: \", len(ratings))\n",
    "\n",
    "distinct_users = ratings['userId'].unique()\n",
    "print(\"Num distinct users: \", len(distinct_users))\n",
    "\n",
    "distinct_movies = ratings['movieId'].unique()\n",
    "print(\"Num distinct movies: \", len(distinct_movies))"
   ]
  },
  {
   "cell_type": "code",
   "execution_count": 17,
   "metadata": {},
   "outputs": [
    {
     "data": {
      "text/html": [
       "<div>\n",
       "<style scoped>\n",
       "    .dataframe tbody tr th:only-of-type {\n",
       "        vertical-align: middle;\n",
       "    }\n",
       "\n",
       "    .dataframe tbody tr th {\n",
       "        vertical-align: top;\n",
       "    }\n",
       "\n",
       "    .dataframe thead th {\n",
       "        text-align: right;\n",
       "    }\n",
       "</style>\n",
       "<table border=\"1\" class=\"dataframe\">\n",
       "  <thead>\n",
       "    <tr style=\"text-align: right;\">\n",
       "      <th></th>\n",
       "      <th>userId</th>\n",
       "      <th>movieId</th>\n",
       "      <th>rating</th>\n",
       "      <th>timestamp</th>\n",
       "    </tr>\n",
       "  </thead>\n",
       "  <tbody>\n",
       "    <tr>\n",
       "      <th>0</th>\n",
       "      <td>1</td>\n",
       "      <td>17</td>\n",
       "      <td>4.0</td>\n",
       "      <td>944249077</td>\n",
       "    </tr>\n",
       "    <tr>\n",
       "      <th>1</th>\n",
       "      <td>1</td>\n",
       "      <td>25</td>\n",
       "      <td>1.0</td>\n",
       "      <td>944250228</td>\n",
       "    </tr>\n",
       "    <tr>\n",
       "      <th>2</th>\n",
       "      <td>1</td>\n",
       "      <td>29</td>\n",
       "      <td>2.0</td>\n",
       "      <td>943230976</td>\n",
       "    </tr>\n",
       "    <tr>\n",
       "      <th>3</th>\n",
       "      <td>1</td>\n",
       "      <td>30</td>\n",
       "      <td>5.0</td>\n",
       "      <td>944249077</td>\n",
       "    </tr>\n",
       "    <tr>\n",
       "      <th>4</th>\n",
       "      <td>1</td>\n",
       "      <td>32</td>\n",
       "      <td>5.0</td>\n",
       "      <td>943228858</td>\n",
       "    </tr>\n",
       "  </tbody>\n",
       "</table>\n",
       "</div>"
      ],
      "text/plain": [
       "   userId  movieId  rating  timestamp\n",
       "0       1       17     4.0  944249077\n",
       "1       1       25     1.0  944250228\n",
       "2       1       29     2.0  943230976\n",
       "3       1       30     5.0  944249077\n",
       "4       1       32     5.0  943228858"
      ]
     },
     "execution_count": 17,
     "metadata": {},
     "output_type": "execute_result"
    }
   ],
   "source": [
    "ratings.head()"
   ]
  },
  {
   "cell_type": "code",
   "execution_count": 18,
   "metadata": {},
   "outputs": [
    {
     "data": {
      "image/png": "[encoded data removed]",
      "text/plain": [
       "<Figure size 640x480 with 1 Axes>"
      ]
     },
     "metadata": {},
     "output_type": "display_data"
    }
   ],
   "source": [
    "ratings['rating'].hist()\n",
    "plt.show()"
   ]
  },
  {
   "cell_type": "code",
   "execution_count": 19,
   "metadata": {},
   "outputs": [
    {
     "name": "stdout",
     "output_type": "stream",
     "text": [
      "Num elements:  87585\n",
      "   movieId                               title  \\\n",
      "0        1                    Toy Story (1995)   \n",
      "1        2                      Jumanji (1995)   \n",
      "2        3             Grumpier Old Men (1995)   \n",
      "3        4            Waiting to Exhale (1995)   \n",
      "4        5  Father of the Bride Part II (1995)   \n",
      "\n",
      "                                        genres  \n",
      "0  Adventure|Animation|Children|Comedy|Fantasy  \n",
      "1                   Adventure|Children|Fantasy  \n",
      "2                               Comedy|Romance  \n",
      "3                         Comedy|Drama|Romance  \n",
      "4                                       Comedy  \n",
      "Num distinct genres:  1798\n"
     ]
    }
   ],
   "source": [
    "movies = pd.read_csv('ml-32m/movies.csv')\n",
    "print(\"Num elements: \", len(movies))\n",
    "print(movies.head())\n",
    "\n",
    "distinct_genres = movies['genres'].unique()\n",
    "print(\"Num distinct genres: \", len(distinct_genres))\n"
   ]
  },
  {
   "cell_type": "code",
   "execution_count": 20,
   "metadata": {},
   "outputs": [
    {
     "name": "stdout",
     "output_type": "stream",
     "text": [
      "Mapping index:  Index(['Adventure|Animation|Children|Comedy|Fantasy',\n",
      "       'Adventure|Children|Fantasy', 'Comedy|Romance', 'Comedy|Drama|Romance',\n",
      "       'Comedy', 'Action|Crime|Thriller', 'Adventure|Children', 'Action',\n",
      "       'Action|Adventure|Thriller', 'Comedy|Horror',\n",
      "       ...\n",
      "       'Action|Adventure|Drama|Fantasy|Mystery|Romance|Sci-Fi',\n",
      "       'Adventure|Animation|Comedy|Western',\n",
      "       'Animation|Children|Comedy|Fantasy|Romance',\n",
      "       'Comedy|Horror|Mystery|Sci-Fi|Thriller',\n",
      "       'Action|Adventure|Drama|Horror|Mystery|Thriller', 'Fantasy|War',\n",
      "       'Adventure|Animation|Documentary|Fantasy',\n",
      "       'Action|Animation|Children|Fantasy|Romance',\n",
      "       'Adventure|Horror|Mystery|Sci-Fi',\n",
      "       'Animation|Comedy|Crime|Drama|Romance|Sci-Fi'],\n",
      "      dtype='object', length=1798)\n"
     ]
    },
    {
     "data": {
      "image/png": "[encoded data removed]",
      "text/plain": [
       "<Figure size 640x480 with 1 Axes>"
      ]
     },
     "metadata": {},
     "output_type": "display_data"
    }
   ],
   "source": [
    "movies['genres'], mapping_index = pd.Series(movies['genres']).factorize()\n",
    "print(\"Mapping index: \", mapping_index)\n",
    "movies['genres'].hist()\n",
    "plt.show()"
   ]
  },
  {
   "cell_type": "code",
   "execution_count": null,
   "metadata": {},
   "outputs": [],
   "source": []
  }
 ],
 "metadata": {
  "kernelspec": {
   "display_name": "Python 3",
   "language": "python",
   "name": "python3"
  },
  "language_info": {
   "codemirror_mode": {
    "name": "ipython",
    "version": 3
   },
   "file_extension": ".py",
   "mimetype": "text/x-python",
   "name": "python",
   "nbconvert_exporter": "python",
   "pygments_lexer": "ipython3",
   "version": "3.11.0"
  }
 },
 "nbformat": 4,
 "nbformat_minor": 2
}
