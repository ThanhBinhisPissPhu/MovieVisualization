{
 "cells": [
  {
   "cell_type": "code",
   "execution_count": 10,
   "metadata": {},
   "outputs": [],
   "source": [
    "from streamer import JsonStreamerPandas"
   ]
  },
  {
   "cell_type": "code",
   "execution_count": 11,
   "metadata": {},
   "outputs": [],
   "source": [
    "rating_path = 'streaming_data/streaming_movies.jsonl'\n",
    "rating_streamer = JsonStreamerPandas(rating_path)"
   ]
  },
  {
   "cell_type": "code",
   "execution_count": 12,
   "metadata": {},
   "outputs": [],
   "source": [
    "new_data = rating_streamer.get_next_row()"
   ]
  },
  {
   "cell_type": "code",
   "execution_count": 14,
   "metadata": {},
   "outputs": [
    {
     "data": {
      "text/plain": [
       "{'item_id': 4255,\n",
       " 'title': 'Freddy Got Fingered (2001)',\n",
       " 'genres': 'Comedy',\n",
       " 'directedBy': 'Tom Green',\n",
       " 'starring': \"Tom Green, Rip Torn, Marisa Coughlan, Eddie Kaye Thomas, Harland Williams, Anthony Michael Hall, Julie Hagerty, Drew Barrymore, Shaquille O'Neal, Noel Fisher, Joe Flaherty, Stephen Tobolowsky\",\n",
       " 'avgRating': 2.17262,\n",
       " 'imdbId': 240515,\n",
       " 'positive_reviews': 0,\n",
       " 'negative_reviews': 0,\n",
       " 'neutral_reviews': 0}"
      ]
     },
     "execution_count": 14,
     "metadata": {},
     "output_type": "execute_result"
    }
   ],
   "source": [
    "new_data[0]"
   ]
  },
  {
   "cell_type": "code",
   "execution_count": 8,
   "metadata": {},
   "outputs": [
    {
     "data": {
      "text/plain": [
       "tuple"
      ]
     },
     "execution_count": 8,
     "metadata": {},
     "output_type": "execute_result"
    }
   ],
   "source": [
    "type(new_data)"
   ]
  },
  {
   "cell_type": "code",
   "execution_count": 9,
   "metadata": {},
   "outputs": [
    {
     "ename": "AttributeError",
     "evalue": "'tuple' object has no attribute 'get'",
     "output_type": "error",
     "traceback": [
      "\u001b[0;31m---------------------------------------------------------------------------\u001b[0m",
      "\u001b[0;31mAttributeError\u001b[0m                            Traceback (most recent call last)",
      "\u001b[1;32m/Users/nguyenthanhbinh/Code Python/RecSysBigData/dags/test.ipynb Cell 6\u001b[0m line \u001b[0;36m2\n\u001b[1;32m      <a href='vscode-notebook-cell:/Users/nguyenthanhbinh/Code%20Python/RecSysBigData/dags/test.ipynb#W3sZmlsZQ%3D%3D?line=0'>1</a>\u001b[0m processed_data \u001b[39m=\u001b[39m {\n\u001b[0;32m----> <a href='vscode-notebook-cell:/Users/nguyenthanhbinh/Code%20Python/RecSysBigData/dags/test.ipynb#W3sZmlsZQ%3D%3D?line=1'>2</a>\u001b[0m                 \u001b[39m\"\u001b[39m\u001b[39mitem_id\u001b[39m\u001b[39m\"\u001b[39m: \u001b[39mint\u001b[39m(new_data\u001b[39m.\u001b[39;49mget(\u001b[39m\"\u001b[39m\u001b[39mitem_id\u001b[39m\u001b[39m\"\u001b[39m, \u001b[39m0\u001b[39m)),\n\u001b[1;32m      <a href='vscode-notebook-cell:/Users/nguyenthanhbinh/Code%20Python/RecSysBigData/dags/test.ipynb#W3sZmlsZQ%3D%3D?line=2'>3</a>\u001b[0m                 \u001b[39m\"\u001b[39m\u001b[39muser_id\u001b[39m\u001b[39m\"\u001b[39m: \u001b[39mint\u001b[39m(new_data\u001b[39m.\u001b[39mget(\u001b[39m\"\u001b[39m\u001b[39muser_id\u001b[39m\u001b[39m\"\u001b[39m, \u001b[39m0\u001b[39m)),\n\u001b[1;32m      <a href='vscode-notebook-cell:/Users/nguyenthanhbinh/Code%20Python/RecSysBigData/dags/test.ipynb#W3sZmlsZQ%3D%3D?line=3'>4</a>\u001b[0m                 \u001b[39m\"\u001b[39m\u001b[39mrating\u001b[39m\u001b[39m\"\u001b[39m: \u001b[39mint\u001b[39m(new_data\u001b[39m.\u001b[39mget(\u001b[39m\"\u001b[39m\u001b[39mrating\u001b[39m\u001b[39m\"\u001b[39m, \u001b[39m0\u001b[39m))\n\u001b[1;32m      <a href='vscode-notebook-cell:/Users/nguyenthanhbinh/Code%20Python/RecSysBigData/dags/test.ipynb#W3sZmlsZQ%3D%3D?line=4'>5</a>\u001b[0m             }\n",
      "\u001b[0;31mAttributeError\u001b[0m: 'tuple' object has no attribute 'get'"
     ]
    }
   ],
   "source": [
    "processed_data = {new_data}"
   ]
  },
  {
   "cell_type": "code",
   "execution_count": 2,
   "metadata": {},
   "outputs": [],
   "source": [
    "from textblob import TextBlob  # For simple sentiment analysis\n",
    "\n",
    "def analyze_sentiment(text):\n",
    "    \"\"\"\n",
    "    Simple sentiment analysis function using TextBlob.\n",
    "    Returns 'positive', 'negative', or 'neutral'.\n",
    "    \"\"\"\n",
    "    try:\n",
    "        polarity = TextBlob(text).sentiment.polarity\n",
    "        print(polarity)\n",
    "        if polarity > 0:\n",
    "            return \"positive\"\n",
    "        elif polarity < 0:\n",
    "            return \"negative\"\n",
    "        else:\n",
    "            return \"neutral\"\n",
    "    except Exception as e:\n",
    "        print(f\"An error occurred: {e}\")\n",
    "        return \"neutral\"\n",
    "\n"
   ]
  },
  {
   "cell_type": "code",
   "execution_count": 4,
   "metadata": {},
   "outputs": [
    {
     "name": "stdout",
     "output_type": "stream",
     "text": [
      "-1.0\n"
     ]
    },
    {
     "data": {
      "text/plain": [
       "'negative'"
      ]
     },
     "execution_count": 4,
     "metadata": {},
     "output_type": "execute_result"
    }
   ],
   "source": [
    "text = \"I hate this movie!\"\n",
    "analyze_sentiment(text)"
   ]
  },
  {
   "cell_type": "code",
   "execution_count": null,
   "metadata": {},
   "outputs": [],
   "source": []
  }
 ],
 "metadata": {
  "kernelspec": {
   "display_name": "Python 3",
   "language": "python",
   "name": "python3"
  },
  "language_info": {
   "codemirror_mode": {
    "name": "ipython",
    "version": 3
   },
   "file_extension": ".py",
   "mimetype": "text/x-python",
   "name": "python",
   "nbconvert_exporter": "python",
   "pygments_lexer": "ipython3",
   "version": "3.11.8"
  }
 },
 "nbformat": 4,
 "nbformat_minor": 2
}
