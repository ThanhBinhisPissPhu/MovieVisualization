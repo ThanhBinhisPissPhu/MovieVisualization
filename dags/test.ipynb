{
 "cells": [
  {
   "cell_type": "code",
   "execution_count": 5,
   "metadata": {},
   "outputs": [],
   "source": [
    "from streamer import JsonStreamerPandas"
   ]
  },
  {
   "cell_type": "code",
   "execution_count": 6,
   "metadata": {},
   "outputs": [],
   "source": [
    "rating_path = 'streaming_data/streaming_movies.jsonl'\n",
    "rating_streamer = JsonStreamerPandas(rating_path)"
   ]
  },
  {
   "cell_type": "code",
   "execution_count": 7,
   "metadata": {},
   "outputs": [],
   "source": [
    "new_data = rating_streamer.get_next_five_rows()"
   ]
  },
  {
   "cell_type": "code",
   "execution_count": 8,
   "metadata": {},
   "outputs": [
    {
     "data": {
      "text/plain": [
       "{'item_id': {0: 4255, 1: 130480, 2: 148610, 3: 152131, 4: 167458},\n",
       " 'title': {0: 'Freddy Got Fingered (2001)',\n",
       "  1: 'I Walk Alone (1948)',\n",
       "  2: 'The Imperfect Lady (1947)',\n",
       "  3: 'The Source (2011)',\n",
       "  4: 'Vehshi Jatt (1975)'},\n",
       " 'genres': {0: 'Comedy',\n",
       "  1: 'Action|Drama|Thriller',\n",
       "  2: None,\n",
       "  3: 'Comedy|Drama',\n",
       "  4: '(no genres listed)'},\n",
       " 'directedBy': {0: 'Tom Green',\n",
       "  1: 'Byron Haskin',\n",
       "  2: 'Lewis Allen',\n",
       "  3: 'Radu Mihaileanu',\n",
       "  4: ''},\n",
       " 'starring': {0: \"Tom Green, Rip Torn, Marisa Coughlan, Eddie Kaye Thomas, Harland Williams, Anthony Michael Hall, Julie Hagerty, Drew Barrymore, Shaquille O'Neal, Noel Fisher, Joe Flaherty, Stephen Tobolowsky\",\n",
       "  1: 'Burt Lancaster,Lizabeth Scott,Kirk Douglas,Wendell Corey,Kristine Miller',\n",
       "  2: 'Ray Milland,Teresa Wright,Cedric Hardwicke,Virginia Field,Anthony Quinn',\n",
       "  3: 'Leïla Bekhti,Hafsia Herzi,Biyouna,Sabrina Ouazani,Saleh Bakri',\n",
       "  4: ''},\n",
       " 'avgRating': {0: 2.17262, 1: 3.42857, 2: 0.0, 3: 3.78571, 4: 5.0},\n",
       " 'imdbId': {0: 240515, 1: 39482, 2: 39487, 3: 1686067, 4: 2605464},\n",
       " 'positive_reviews': {0: 0, 1: 0, 2: 0, 3: 0, 4: 0},\n",
       " 'negative_reviews': {0: 0, 1: 0, 2: 0, 3: 0, 4: 0},\n",
       " 'neutral_reviews': {0: 0, 1: 0, 2: 0, 3: 0, 4: 0}}"
      ]
     },
     "execution_count": 8,
     "metadata": {},
     "output_type": "execute_result"
    }
   ],
   "source": [
    "new_data"
   ]
  },
  {
   "cell_type": "code",
   "execution_count": 9,
   "metadata": {},
   "outputs": [],
   "source": [
    "# Convert the data into a list of dictionaries\n",
    "movies = []\n",
    "for i in range(len(new_data['item_id'])):\n",
    "    movie = {key: new_data[key][i] for key in new_data}\n",
    "    movies.append(movie)\n"
   ]
  },
  {
   "cell_type": "code",
   "execution_count": 10,
   "metadata": {},
   "outputs": [
    {
     "data": {
      "text/plain": [
       "[{'item_id': 4255,\n",
       "  'title': 'Freddy Got Fingered (2001)',\n",
       "  'genres': 'Comedy',\n",
       "  'directedBy': 'Tom Green',\n",
       "  'starring': \"Tom Green, Rip Torn, Marisa Coughlan, Eddie Kaye Thomas, Harland Williams, Anthony Michael Hall, Julie Hagerty, Drew Barrymore, Shaquille O'Neal, Noel Fisher, Joe Flaherty, Stephen Tobolowsky\",\n",
       "  'avgRating': 2.17262,\n",
       "  'imdbId': 240515,\n",
       "  'positive_reviews': 0,\n",
       "  'negative_reviews': 0,\n",
       "  'neutral_reviews': 0},\n",
       " {'item_id': 130480,\n",
       "  'title': 'I Walk Alone (1948)',\n",
       "  'genres': 'Action|Drama|Thriller',\n",
       "  'directedBy': 'Byron Haskin',\n",
       "  'starring': 'Burt Lancaster,Lizabeth Scott,Kirk Douglas,Wendell Corey,Kristine Miller',\n",
       "  'avgRating': 3.42857,\n",
       "  'imdbId': 39482,\n",
       "  'positive_reviews': 0,\n",
       "  'negative_reviews': 0,\n",
       "  'neutral_reviews': 0},\n",
       " {'item_id': 148610,\n",
       "  'title': 'The Imperfect Lady (1947)',\n",
       "  'genres': None,\n",
       "  'directedBy': 'Lewis Allen',\n",
       "  'starring': 'Ray Milland,Teresa Wright,Cedric Hardwicke,Virginia Field,Anthony Quinn',\n",
       "  'avgRating': 0.0,\n",
       "  'imdbId': 39487,\n",
       "  'positive_reviews': 0,\n",
       "  'negative_reviews': 0,\n",
       "  'neutral_reviews': 0},\n",
       " {'item_id': 152131,\n",
       "  'title': 'The Source (2011)',\n",
       "  'genres': 'Comedy|Drama',\n",
       "  'directedBy': 'Radu Mihaileanu',\n",
       "  'starring': 'Leïla Bekhti,Hafsia Herzi,Biyouna,Sabrina Ouazani,Saleh Bakri',\n",
       "  'avgRating': 3.78571,\n",
       "  'imdbId': 1686067,\n",
       "  'positive_reviews': 0,\n",
       "  'negative_reviews': 0,\n",
       "  'neutral_reviews': 0},\n",
       " {'item_id': 167458,\n",
       "  'title': 'Vehshi Jatt (1975)',\n",
       "  'genres': '(no genres listed)',\n",
       "  'directedBy': '',\n",
       "  'starring': '',\n",
       "  'avgRating': 5.0,\n",
       "  'imdbId': 2605464,\n",
       "  'positive_reviews': 0,\n",
       "  'negative_reviews': 0,\n",
       "  'neutral_reviews': 0}]"
      ]
     },
     "execution_count": 10,
     "metadata": {},
     "output_type": "execute_result"
    }
   ],
   "source": [
    "movies"
   ]
  },
  {
   "cell_type": "code",
   "execution_count": null,
   "metadata": {},
   "outputs": [],
   "source": []
  }
 ],
 "metadata": {
  "kernelspec": {
   "display_name": "Python 3",
   "language": "python",
   "name": "python3"
  },
  "language_info": {
   "codemirror_mode": {
    "name": "ipython",
    "version": 3
   },
   "file_extension": ".py",
   "mimetype": "text/x-python",
   "name": "python",
   "nbconvert_exporter": "python",
   "pygments_lexer": "ipython3",
   "version": "3.11.8"
  }
 },
 "nbformat": 4,
 "nbformat_minor": 2
}
