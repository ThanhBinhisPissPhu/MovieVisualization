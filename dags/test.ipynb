{
 "cells": [
  {
   "cell_type": "code",
   "execution_count": 5,
   "metadata": {},
   "outputs": [],
   "source": [
    "from streamer import JsonStreamerPandas"
   ]
  },
  {
   "cell_type": "code",
   "execution_count": 6,
   "metadata": {},
   "outputs": [],
   "source": [
    "rating_path = 'streaming_data/streaming_movies.jsonl'\n",
    "rating_streamer = JsonStreamerPandas(rating_path)"
   ]
  },
  {
   "cell_type": "code",
   "execution_count": 7,
   "metadata": {},
   "outputs": [],
   "source": [
    "new_data = rating_streamer.get_next_five_rows()"
   ]
  },
  {
   "cell_type": "code",
   "execution_count": 8,
   "metadata": {},
   "outputs": [
    {
     "data": {
      "text/plain": [
       "{'item_id': {0: 4255, 1: 130480, 2: 148610, 3: 152131, 4: 167458},\n",
       " 'title': {0: 'Freddy Got Fingered (2001)',\n",
       "  1: 'I Walk Alone (1948)',\n",
       "  2: 'The Imperfect Lady (1947)',\n",
       "  3: 'The Source (2011)',\n",
       "  4: 'Vehshi Jatt (1975)'},\n",
       " 'genres': {0: 'Comedy',\n",
       "  1: 'Action|Drama|Thriller',\n",
       "  2: None,\n",
       "  3: 'Comedy|Drama',\n",
       "  4: '(no genres listed)'},\n",
       " 'directedBy': {0: 'Tom Green',\n",
       "  1: 'Byron Haskin',\n",
       "  2: 'Lewis Allen',\n",
       "  3: 'Radu Mihaileanu',\n",
       "  4: ''},\n",
       " 'starring': {0: \"Tom Green, Rip Torn, Marisa Coughlan, Eddie Kaye Thomas, Harland Williams, Anthony Michael Hall, Julie Hagerty, Drew Barrymore, Shaquille O'Neal, Noel Fisher, Joe Flaherty, Stephen Tobolowsky\",\n",
       "  1: 'Burt Lancaster,Lizabeth Scott,Kirk Douglas,Wendell Corey,Kristine Miller',\n",
       "  2: 'Ray Milland,Teresa Wright,Cedric Hardwicke,Virginia Field,Anthony Quinn',\n",
       "  3: 'Leïla Bekhti,Hafsia Herzi,Biyouna,Sabrina Ouazani,Saleh Bakri',\n",
       "  4: ''},\n",
       " 'avgRating': {0: 2.17262, 1: 3.42857, 2: 0.0, 3: 3.78571, 4: 5.0},\n",
       " 'imdbId': {0: 240515, 1: 39482, 2: 39487, 3: 1686067, 4: 2605464},\n",
       " 'positive_reviews': {0: 0, 1: 0, 2: 0, 3: 0, 4: 0},\n",
       " 'negative_reviews': {0: 0, 1: 0, 2: 0, 3: 0, 4: 0},\n",
       " 'neutral_reviews': {0: 0, 1: 0, 2: 0, 3: 0, 4: 0}}"
      ]
     },
     "execution_count": 8,
     "metadata": {},
     "output_type": "execute_result"
    }
   ],
   "source": [
    "new_data"
   ]
  },
  {
   "cell_type": "code",
   "execution_count": 1,
   "metadata": {},
   "outputs": [],
   "source": [
    "import pandas as pd\n",
    "ratings = pd.read_json('streaming_data/streaming_ratings.jsonl', lines=True)"
   ]
  },
  {
   "cell_type": "code",
   "execution_count": 2,
   "metadata": {},
   "outputs": [
    {
     "data": {
      "text/plain": [
       "item_id\n",
       "4255      1978\n",
       "170777     311\n",
       "152131      16\n",
       "130480      11\n",
       "200400       5\n",
       "173031       3\n",
       "180571       3\n",
       "186729       2\n",
       "167458       1\n",
       "Name: count, dtype: int64"
      ]
     },
     "execution_count": 2,
     "metadata": {},
     "output_type": "execute_result"
    }
   ],
   "source": [
    "ratings['item_id'].value_counts()"
   ]
  },
  {
   "cell_type": "code",
   "execution_count": 3,
   "metadata": {},
   "outputs": [],
   "source": [
    "reviews = pd.read_json('streaming_data/streaming_reviews.jsonl', lines=True)"
   ]
  },
  {
   "cell_type": "code",
   "execution_count": 4,
   "metadata": {},
   "outputs": [
    {
     "data": {
      "text/plain": [
       "item_id\n",
       "4255      637\n",
       "130480     20\n",
       "152131     11\n",
       "173031      5\n",
       "170777      4\n",
       "148610      2\n",
       "Name: count, dtype: int64"
      ]
     },
     "execution_count": 4,
     "metadata": {},
     "output_type": "execute_result"
    }
   ],
   "source": [
    "reviews['item_id'].value_counts()"
   ]
  },
  {
   "cell_type": "code",
   "execution_count": null,
   "metadata": {},
   "outputs": [],
   "source": []
  }
 ],
 "metadata": {
  "kernelspec": {
   "display_name": "Python 3",
   "language": "python",
   "name": "python3"
  },
  "language_info": {
   "codemirror_mode": {
    "name": "ipython",
    "version": 3
   },
   "file_extension": ".py",
   "mimetype": "text/x-python",
   "name": "python",
   "nbconvert_exporter": "python",
   "pygments_lexer": "ipython3",
   "version": "3.11.8"
  }
 },
 "nbformat": 4,
 "nbformat_minor": 2
}
